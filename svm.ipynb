{
 "cells": [
  {
   "cell_type": "markdown",
   "id": "aa7d2d0f-a2eb-4cb1-a3c4-0c78a0aaddfc",
   "metadata": {},
   "source": [
    "#### Importaciones necesarias"
   ]
  },
  {
   "cell_type": "code",
   "execution_count": 1,
   "id": "2c567dd1-5943-4d9e-854b-58d6db8ef92a",
   "metadata": {},
   "outputs": [],
   "source": [
    "import numpy as np\n",
    "import pandas as pd\n",
    "import nltk\n",
    "from nltk.corpus import stopwords\n",
    "import matplotlib.pyplot as plt\n",
    "from nltk.stem import WordNetLemmatizer\n",
    "from sklearn.feature_extraction.text import CountVectorizer\n",
    "import pickle\n",
    "import time\n",
    "import re"
   ]
  },
  {
   "cell_type": "markdown",
   "id": "3918569b-f5ee-4bd8-94de-916aa3cea7f0",
   "metadata": {},
   "source": [
    "#### Convertimos el JSON para poder trabajar con Pandas"
   ]
  },
  {
   "cell_type": "code",
   "execution_count": 2,
   "id": "c0e7b985-bb55-449c-a069-7d6022775aa2",
   "metadata": {},
   "outputs": [
    {
     "data": {
      "text/html": [
       "<div>\n",
       "<style scoped>\n",
       "    .dataframe tbody tr th:only-of-type {\n",
       "        vertical-align: middle;\n",
       "    }\n",
       "\n",
       "    .dataframe tbody tr th {\n",
       "        vertical-align: top;\n",
       "    }\n",
       "\n",
       "    .dataframe thead th {\n",
       "        text-align: right;\n",
       "    }\n",
       "</style>\n",
       "<table border=\"1\" class=\"dataframe\">\n",
       "  <thead>\n",
       "    <tr style=\"text-align: right;\">\n",
       "      <th></th>\n",
       "      <th>id</th>\n",
       "      <th>question</th>\n",
       "      <th>category</th>\n",
       "      <th>type</th>\n",
       "    </tr>\n",
       "  </thead>\n",
       "  <tbody>\n",
       "    <tr>\n",
       "      <th>0</th>\n",
       "      <td>0</td>\n",
       "      <td>Was Jacqueline Kennedy Onassis a follower of M...</td>\n",
       "      <td>boolean</td>\n",
       "      <td>[boolean]</td>\n",
       "    </tr>\n",
       "    <tr>\n",
       "      <th>1</th>\n",
       "      <td>1</td>\n",
       "      <td>What is the name of the opera based on Twelfth...</td>\n",
       "      <td>resource</td>\n",
       "      <td>[dbo:Opera, dbo:MusicalWork, dbo:Work]</td>\n",
       "    </tr>\n",
       "    <tr>\n",
       "      <th>2</th>\n",
       "      <td>2</td>\n",
       "      <td>When did Lena Horne receive the Grammy Award f...</td>\n",
       "      <td>literal</td>\n",
       "      <td>[date]</td>\n",
       "    </tr>\n",
       "    <tr>\n",
       "      <th>3</th>\n",
       "      <td>3</td>\n",
       "      <td>Do Prince Harry and Prince William have the sa...</td>\n",
       "      <td>boolean</td>\n",
       "      <td>[boolean]</td>\n",
       "    </tr>\n",
       "    <tr>\n",
       "      <th>4</th>\n",
       "      <td>5</td>\n",
       "      <td>Which is the hierarchical BrainInfo ID of the ...</td>\n",
       "      <td>literal</td>\n",
       "      <td>[string]</td>\n",
       "    </tr>\n",
       "  </tbody>\n",
       "</table>\n",
       "</div>"
      ],
      "text/plain": [
       "   id                                           question  category  \\\n",
       "0   0  Was Jacqueline Kennedy Onassis a follower of M...   boolean   \n",
       "1   1  What is the name of the opera based on Twelfth...  resource   \n",
       "2   2  When did Lena Horne receive the Grammy Award f...   literal   \n",
       "3   3  Do Prince Harry and Prince William have the sa...   boolean   \n",
       "4   5  Which is the hierarchical BrainInfo ID of the ...   literal   \n",
       "\n",
       "                                     type  \n",
       "0                               [boolean]  \n",
       "1  [dbo:Opera, dbo:MusicalWork, dbo:Work]  \n",
       "2                                  [date]  \n",
       "3                               [boolean]  \n",
       "4                                [string]  "
      ]
     },
     "execution_count": 2,
     "metadata": {},
     "output_type": "execute_result"
    }
   ],
   "source": [
    "df = pd.read_json(\"SMART2022-AT-dbpedia-train.json\")\n",
    "df.to_csv(index = None, encoding='latin-1')\n",
    "df.head()"
   ]
  },
  {
   "cell_type": "markdown",
   "id": "a181bf3b-9ec6-4d3a-b869-afb164a77588",
   "metadata": {},
   "source": [
    "#### Eliminamos las columnas que no necesitamos"
   ]
  },
  {
   "cell_type": "code",
   "execution_count": 3,
   "id": "7bd614a5-caea-4814-8d03-80143a4b8e3a",
   "metadata": {},
   "outputs": [
    {
     "data": {
      "text/html": [
       "<div>\n",
       "<style scoped>\n",
       "    .dataframe tbody tr th:only-of-type {\n",
       "        vertical-align: middle;\n",
       "    }\n",
       "\n",
       "    .dataframe tbody tr th {\n",
       "        vertical-align: top;\n",
       "    }\n",
       "\n",
       "    .dataframe thead th {\n",
       "        text-align: right;\n",
       "    }\n",
       "</style>\n",
       "<table border=\"1\" class=\"dataframe\">\n",
       "  <thead>\n",
       "    <tr style=\"text-align: right;\">\n",
       "      <th></th>\n",
       "      <th>question</th>\n",
       "      <th>category</th>\n",
       "    </tr>\n",
       "  </thead>\n",
       "  <tbody>\n",
       "    <tr>\n",
       "      <th>0</th>\n",
       "      <td>Was Jacqueline Kennedy Onassis a follower of M...</td>\n",
       "      <td>boolean</td>\n",
       "    </tr>\n",
       "    <tr>\n",
       "      <th>1</th>\n",
       "      <td>What is the name of the opera based on Twelfth...</td>\n",
       "      <td>resource</td>\n",
       "    </tr>\n",
       "    <tr>\n",
       "      <th>2</th>\n",
       "      <td>When did Lena Horne receive the Grammy Award f...</td>\n",
       "      <td>literal</td>\n",
       "    </tr>\n",
       "    <tr>\n",
       "      <th>3</th>\n",
       "      <td>Do Prince Harry and Prince William have the sa...</td>\n",
       "      <td>boolean</td>\n",
       "    </tr>\n",
       "    <tr>\n",
       "      <th>4</th>\n",
       "      <td>Which is the hierarchical BrainInfo ID of the ...</td>\n",
       "      <td>literal</td>\n",
       "    </tr>\n",
       "  </tbody>\n",
       "</table>\n",
       "</div>"
      ],
      "text/plain": [
       "                                            question  category\n",
       "0  Was Jacqueline Kennedy Onassis a follower of M...   boolean\n",
       "1  What is the name of the opera based on Twelfth...  resource\n",
       "2  When did Lena Horne receive the Grammy Award f...   literal\n",
       "3  Do Prince Harry and Prince William have the sa...   boolean\n",
       "4  Which is the hierarchical BrainInfo ID of the ...   literal"
      ]
     },
     "execution_count": 3,
     "metadata": {},
     "output_type": "execute_result"
    }
   ],
   "source": [
    "unrelevant_features = [\"id\",\"type\"]\n",
    "df.drop(unrelevant_features,inplace=True,axis=1)\n",
    "df.head()"
   ]
  },
  {
   "cell_type": "markdown",
   "id": "67c1de06-6ada-4a62-893b-e1ba6f81e6e6",
   "metadata": {},
   "source": [
    "#### Cantidad por categoria"
   ]
  },
  {
   "cell_type": "code",
   "execution_count": 4,
   "id": "04a303e2-c9cb-4e81-b287-3074e9bfcc20",
   "metadata": {},
   "outputs": [
    {
     "data": {
      "text/plain": [
       "resource    30226\n",
       "literal      4217\n",
       "boolean      2227\n",
       "Name: category, dtype: int64"
      ]
     },
     "execution_count": 4,
     "metadata": {},
     "output_type": "execute_result"
    }
   ],
   "source": [
    "df[\"category\"].value_counts()"
   ]
  },
  {
   "cell_type": "markdown",
   "id": "05b1fd5a-fd70-49dd-b328-625779ca7daa",
   "metadata": {},
   "source": [
    "#### Cambiamos las categorías por valores enteros"
   ]
  },
  {
   "cell_type": "code",
   "execution_count": 5,
   "id": "cdf757c8-aec8-49d0-a3cb-c1a6830bb586",
   "metadata": {},
   "outputs": [
    {
     "data": {
      "text/html": [
       "<div>\n",
       "<style scoped>\n",
       "    .dataframe tbody tr th:only-of-type {\n",
       "        vertical-align: middle;\n",
       "    }\n",
       "\n",
       "    .dataframe tbody tr th {\n",
       "        vertical-align: top;\n",
       "    }\n",
       "\n",
       "    .dataframe thead th {\n",
       "        text-align: right;\n",
       "    }\n",
       "</style>\n",
       "<table border=\"1\" class=\"dataframe\">\n",
       "  <thead>\n",
       "    <tr style=\"text-align: right;\">\n",
       "      <th></th>\n",
       "      <th>question</th>\n",
       "      <th>category</th>\n",
       "    </tr>\n",
       "  </thead>\n",
       "  <tbody>\n",
       "    <tr>\n",
       "      <th>0</th>\n",
       "      <td>Was Jacqueline Kennedy Onassis a follower of M...</td>\n",
       "      <td>0</td>\n",
       "    </tr>\n",
       "    <tr>\n",
       "      <th>1</th>\n",
       "      <td>Do Prince Harry and Prince William have the sa...</td>\n",
       "      <td>0</td>\n",
       "    </tr>\n",
       "    <tr>\n",
       "      <th>2</th>\n",
       "      <td>Did Buddhism was named after the immigration o...</td>\n",
       "      <td>0</td>\n",
       "    </tr>\n",
       "    <tr>\n",
       "      <th>3</th>\n",
       "      <td>Did Steve Sampson manage a club of Santa Clara...</td>\n",
       "      <td>0</td>\n",
       "    </tr>\n",
       "    <tr>\n",
       "      <th>4</th>\n",
       "      <td>Is the number of injured in the Newhall massac...</td>\n",
       "      <td>0</td>\n",
       "    </tr>\n",
       "  </tbody>\n",
       "</table>\n",
       "</div>"
      ],
      "text/plain": [
       "                                            question  category\n",
       "0  Was Jacqueline Kennedy Onassis a follower of M...         0\n",
       "1  Do Prince Harry and Prince William have the sa...         0\n",
       "2  Did Buddhism was named after the immigration o...         0\n",
       "3  Did Steve Sampson manage a club of Santa Clara...         0\n",
       "4  Is the number of injured in the Newhall massac...         0"
      ]
     },
     "execution_count": 5,
     "metadata": {},
     "output_type": "execute_result"
    }
   ],
   "source": [
    "import warnings as wrn\n",
    "wrn.filterwarnings('ignore')\n",
    "\n",
    "boolean = df[(df[\"category\"] == \"boolean\")]\n",
    "boolean[\"category\"] = 0 \n",
    "\n",
    "literal = df[(df[\"category\"] == \"literal\")]\n",
    "literal[\"category\"] = 1\n",
    "\n",
    "resource = df[(df[\"category\"] == \"resource\")]\n",
    "resource[\"category\"] = 2\n",
    "\n",
    "data = pd.concat([boolean, literal, resource],axis=0)\n",
    "\n",
    "data.reset_index(inplace=True)\n",
    "data.drop('index', axis=1, inplace=True)\n",
    "data.head()"
   ]
  },
  {
   "cell_type": "markdown",
   "id": "aea524c9-c727-4f82-a4f1-e8b2302d16fe",
   "metadata": {},
   "source": [
    "#### Verificamos nulos"
   ]
  },
  {
   "cell_type": "code",
   "execution_count": 6,
   "id": "61f1c4ac-531c-439b-a4b0-f4a9ac8de0ce",
   "metadata": {},
   "outputs": [
    {
     "data": {
      "text/plain": [
       "question    0\n",
       "category    0\n",
       "dtype: int64"
      ]
     },
     "execution_count": 6,
     "metadata": {},
     "output_type": "execute_result"
    }
   ],
   "source": [
    "# número de nulos por columa\n",
    "nulls = data.isnull().sum()\n",
    "\n",
    "# verificamos la cantidad\n",
    "nulls[0:2]"
   ]
  },
  {
   "cell_type": "markdown",
   "id": "564c6e4a-34db-4021-b863-4bfa9765017d",
   "metadata": {},
   "source": [
    "## Data Preprocessing"
   ]
  },
  {
   "cell_type": "code",
   "execution_count": 7,
   "id": "84767753-4f54-44fe-99d1-65f2935ab4fd",
   "metadata": {},
   "outputs": [
    {
     "name": "stderr",
     "output_type": "stream",
     "text": [
      "[nltk_data] Downloading package punkt to /home/mariano/nltk_data...\n",
      "[nltk_data]   Package punkt is already up-to-date!\n",
      "[nltk_data] Downloading package wordnet to /home/mariano/nltk_data...\n",
      "[nltk_data]   Package wordnet is already up-to-date!\n",
      "[nltk_data] Downloading package omw-1.4 to /home/mariano/nltk_data...\n",
      "[nltk_data]   Package omw-1.4 is already up-to-date!\n"
     ]
    }
   ],
   "source": [
    "nltk.download('punkt')\n",
    "nltk.download('wordnet')\n",
    "nltk.download('omw-1.4')\n",
    "\n",
    "cleanedData = []\n",
    "\n",
    "lemma = WordNetLemmatizer()\n",
    "swords = stopwords.words(\"english\")\n",
    "for text in data[\"question\"]:\n",
    "       \n",
    "    # Tokenizing and lemmatizing\n",
    "    text = nltk.word_tokenize(text.lower())\n",
    "    text = [lemma.lemmatize(word) for word in text]\n",
    "    \n",
    "    # Removing stopwords\n",
    "    text = [word for word in text if word not in swords]\n",
    "    \n",
    "    # Joining\n",
    "    text = \" \".join(text)\n",
    "    \n",
    "    cleanedData.append(text)"
   ]
  },
  {
   "cell_type": "markdown",
   "id": "787952e0-5823-4394-a24f-ff0dfdc01b78",
   "metadata": {},
   "source": [
    "#### Bolsa de palabras"
   ]
  },
  {
   "cell_type": "code",
   "execution_count": 8,
   "id": "0197a655-6966-4626-966c-127aa7a1986f",
   "metadata": {},
   "outputs": [],
   "source": [
    "vectorizer = CountVectorizer(max_features=10000)\n",
    "BOW = vectorizer.fit_transform(cleanedData)"
   ]
  },
  {
   "cell_type": "markdown",
   "id": "fb646761-093b-4a16-bcb6-ae1a4b75effe",
   "metadata": {},
   "source": [
    "#### Dividimos en entrenamiento y testeo (70-30)"
   ]
  },
  {
   "cell_type": "code",
   "execution_count": 9,
   "id": "947a1db4-7f96-4c06-adee-f31a9ee1d36a",
   "metadata": {},
   "outputs": [],
   "source": [
    "from sklearn.model_selection import train_test_split\n",
    "x_train,x_test,y_train,y_test = train_test_split(BOW,np.asarray(data[\"category\"]), test_size = 0.30)"
   ]
  },
  {
   "cell_type": "markdown",
   "id": "99ac80f1-5bc8-44fe-b721-1c3dd05001e7",
   "metadata": {},
   "source": [
    "#### Support Vector Machine Classifier Modeling"
   ]
  },
  {
   "cell_type": "code",
   "execution_count": 10,
   "id": "18f139cc-8af1-4bfd-bd03-60cdf0aeac7d",
   "metadata": {},
   "outputs": [
    {
     "name": "stdout",
     "output_type": "stream",
     "text": [
      "Fitting SVC took 45.08 seconds\n"
     ]
    }
   ],
   "source": [
    "from sklearn.svm import SVC\n",
    "start_time = time.time()\n",
    "\n",
    "model = SVC()\n",
    "model.fit(x_train,y_train)\n",
    "\n",
    "end_time = time.time()\n",
    "process_time = round(end_time-start_time,2)\n",
    "print(\"Fitting SVC took {} seconds\".format(process_time))"
   ]
  },
  {
   "cell_type": "code",
   "execution_count": 11,
   "id": "fdd433af-7920-4d0c-a629-a79f5ed2a7e2",
   "metadata": {},
   "outputs": [],
   "source": [
    "predictions = model.predict(x_test)"
   ]
  },
  {
   "cell_type": "code",
   "execution_count": 12,
   "id": "b5420ab7-d853-479a-90d4-0a4c88f35d28",
   "metadata": {},
   "outputs": [
    {
     "name": "stdout",
     "output_type": "stream",
     "text": [
      "Accuracy of model is 92.05526770293609%\n"
     ]
    }
   ],
   "source": [
    "from sklearn.metrics import accuracy_score\n",
    "print(\"Accuracy of model is {}%\".format(accuracy_score(y_test,predictions) * 100))"
   ]
  }
 ],
 "metadata": {
  "kernelspec": {
   "display_name": "Python 3 (ipykernel)",
   "language": "python",
   "name": "python3"
  },
  "language_info": {
   "codemirror_mode": {
    "name": "ipython",
    "version": 3
   },
   "file_extension": ".py",
   "mimetype": "text/x-python",
   "name": "python",
   "nbconvert_exporter": "python",
   "pygments_lexer": "ipython3",
   "version": "3.9.13"
  }
 },
 "nbformat": 4,
 "nbformat_minor": 5
}
